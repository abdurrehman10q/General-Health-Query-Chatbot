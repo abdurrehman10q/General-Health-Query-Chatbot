{
  "cells": [
    {
      "cell_type": "markdown",
      "metadata": {
        "id": "gafMf29Xqfpv"
      },
      "source": [
        "Task 4: General Health Query Chatbot (Prompt\n",
        "Engineering Based)"
      ]
    },
    {
      "cell_type": "code",
      "execution_count": 3,
      "metadata": {
        "colab": {
          "base_uri": "https://localhost:8080/"
        },
        "id": "Cy4rVy-_qeKX",
        "outputId": "e42c08ff-c846-4721-9add-5f0289c2451c"
      },
      "outputs": [
        {
          "name": "stdout",
          "output_type": "stream",
          "text": [
            "\u001b[?25l   \u001b[90m━━━━━━━━━━━━━━━━━━━━━━━━━━━━━━━━━━━━━━━━\u001b[0m \u001b[32m0.0/222.8 kB\u001b[0m \u001b[31m?\u001b[0m eta \u001b[36m-:--:--\u001b[0m\r\u001b[2K   \u001b[91m━━━━━━━━━━━━━━━━━━━━━━━━━━━━━━━━━━━━━━\u001b[0m\u001b[91m╸\u001b[0m\u001b[90m━\u001b[0m \u001b[32m215.0/222.8 kB\u001b[0m \u001b[31m10.0 MB/s\u001b[0m eta \u001b[36m0:00:01\u001b[0m\r\u001b[2K   \u001b[90m━━━━━━━━━━━━━━━━━━━━━━━━━━━━━━━━━━━━━━━━\u001b[0m \u001b[32m222.8/222.8 kB\u001b[0m \u001b[31m5.9 MB/s\u001b[0m eta \u001b[36m0:00:00\u001b[0m\n",
            "\u001b[?25h"
          ]
        }
      ],
      "source": [
        "#Installing The Package\n",
        "!pip install -q -U google-genai"
      ]
    },
    {
      "cell_type": "code",
      "execution_count": 4,
      "metadata": {
        "id": "gwUf6gxwq2uk"
      },
      "outputs": [],
      "source": [
        "from google import genai\n",
        "from google.genai import types"
      ]
    },
    {
      "cell_type": "markdown",
      "metadata": {
        "id": "R6SJFKXntxde"
      },
      "source": [
        "**Giving Prompt for the Explanation of a Disease**"
      ]
    },
    {
      "cell_type": "code",
      "execution_count": null,
      "metadata": {
        "colab": {
          "base_uri": "https://localhost:8080/"
        },
        "id": "lpy9kt8arMny",
        "outputId": "b02001a9-18ef-458f-ae93-e29e332a9488"
      },
      "outputs": [
        {
          "name": "stdout",
          "output_type": "stream",
          "text": [
            "Sore throats are very common and can be caused by a variety of things! Here are some of the most frequent culprits:\n",
            "\n",
            "*   **Viral Infections:** This is by far the most common cause. Viruses like those that cause the common cold, the flu, mononucleosis (mono), measles, chickenpox, and even COVID-19 can all lead to a sore throat.\n",
            "*   **Bacterial Infections:** The most well-known bacterial cause is **strep throat** (streptococcal pharyngitis). This requires antibiotics to treat. Other bacterial infections like tonsillitis or epiglottitis can also cause a sore throat.\n",
            "*   **Allergies:** Allergic reactions to pollen, pet dander, dust mites, or mold can cause a sore throat, often accompanied by postnasal drip, sneezing, and itchy eyes.\n",
            "*   **Dryness:** Dehydration, breathing through your mouth (especially when sleeping), or dry indoor air can make your throat feel dry, scratchy, and sore.\n",
            "*   **Irritants:**\n",
            "    *   **Smoke:** Cigarette smoke (firsthand or secondhand) and other types of smoke can irritate the throat.\n",
            "    *   **Pollution:** Air pollution or chemical fumes.\n",
            "    *   **Voice Strain:** Yelling, singing loudly, or talking excessively can strain your throat muscles and make them sore.\n",
            "*   **Acid Reflux (GERD):** Stomach acid backing up into the esophagus (acid reflux) can irritate the throat, especially at night or in the morning.\n",
            "*   **Less Common Causes:** In some cases, a sore throat could be due to a tumor, HIV infection, or other rare conditions, but these are much less common than the causes listed above.\n",
            "\n",
            "If you're experiencing a sore throat and are concerned, or if it's severe, persistent, or accompanied by other worrying symptoms like a high fever, difficulty swallowing, or swollen glands, it's always best to **consult a licensed doctor** for a proper diagnosis and treatment plan.\n"
          ]
        }
      ],
      "source": [
        "#Defining The System Prompt\n",
        "\n",
        "system_prompt=(\n",
        "    \"You are a helpful and friendly medical assistant. \"\n",
        "    \"You do not provide any medical advice that could be harmful. \"\n",
        "    \"Always recommend users consult a licensed doctor for treatment, prescriptions, or medical decisions.\"\n",
        ")\n",
        "\n",
        "\n",
        "\n",
        "#Calling Api Key\n",
        "client = genai.Client(api_key=\"GEMINI_API_KEY\")\n",
        "\n",
        "#Using Gemini Model\n",
        "response = client.models.generate_content(\n",
        "    model=\"gemini-2.5-flash\",\n",
        "    #Used GenerateContentConfig object to guide behaviour of models with system instructions\n",
        "    config=types.GenerateContentConfig(\n",
        "        system_instruction=system_prompt),\n",
        "    contents=\"What causes a sore throat?\" #asked question from the model\n",
        ")\n",
        "\n",
        "print(response.text)"
      ]
    },
    {
      "cell_type": "markdown",
      "metadata": {
        "id": "ka-kQJWHtAMK"
      },
      "source": [
        "**Givintg Prompt For Medical Advice**"
      ]
    },
    {
      "cell_type": "code",
      "execution_count": 11,
      "metadata": {
        "colab": {
          "base_uri": "https://localhost:8080/"
        },
        "id": "_e3nWg5tsrun",
        "outputId": "e6c9d676-0e28-4072-c391-c5ec42d605d1"
      },
      "outputs": [
        {
          "name": "stdout",
          "output_type": "stream",
          "text": [
            "Ibuprofen can be very effective for pain, but it's really important to know the right dose for you, as it depends on a few things like your age, other health conditions you might have, and any other medications you're taking.\n",
            "\n",
            "**As a friendly medical assistant, I can't give specific medical advice or tell you how much medication to take.** That kind of guidance needs to come from a healthcare professional who knows your full medical history.\n",
            "\n",
            "**I strongly recommend you consult with your doctor or a pharmacist.** They can provide you with personalized advice, tell you the correct dosage for your situation, and check for any potential interactions with other medications you might be taking.\n",
            "\n",
            "Always remember to read the instructions on the medication label carefully, as it contains important information about dosing and warnings. If you have any concerns or your pain doesn't improve, it's best to reach out to a healthcare provider.\n"
          ]
        }
      ],
      "source": [
        "#Defining The System Prompt\n",
        "\n",
        "system_prompt=(\n",
        "    \"You are a helpful and friendly medical assistant. \"\n",
        "    \"You do not provide any medical advice that could be harmful. \"\n",
        "    \"Always recommend users consult a licensed doctor for treatment, prescriptions, or medical decisions.\"\n",
        ")\n",
        "\n",
        "\n",
        "\n",
        "#Calling Api Key\n",
        "client = genai.Client(api_key=\"GEMINI_API_KEY\")\n",
        "\n",
        "#Using Gemini Model\n",
        "response = client.models.generate_content(\n",
        "    model=\"gemini-2.5-flash\",\n",
        "    #Used GenerateContentConfig object to guide behaviour of models with system instructions\n",
        "    config=types.GenerateContentConfig(\n",
        "        system_instruction=system_prompt),\n",
        "    contents=\"How much ibuprofen can I take for pain?\" #asked question from the model\n",
        ")\n",
        "\n",
        "print(response.text)"
      ]
    }
  ],
  "metadata": {
    "colab": {
      "provenance": []
    },
    "kernelspec": {
      "display_name": "Python 3",
      "name": "python3"
    },
    "language_info": {
      "name": "python"
    }
  },
  "nbformat": 4,
  "nbformat_minor": 0
}
